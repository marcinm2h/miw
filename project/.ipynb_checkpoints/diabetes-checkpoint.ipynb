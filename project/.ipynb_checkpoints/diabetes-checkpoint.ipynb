{
 "cells": [
  {
   "cell_type": "code",
   "execution_count": 197,
   "metadata": {},
   "outputs": [],
   "source": [
    "import pandas as pd\n",
    "import numpy as np\n",
    "import tensorflow as tf\n",
    "from sklearn.model_selection import StratifiedShuffleSplit\n",
    "from sklearn.preprocessing import LabelBinarizer"
   ]
  },
  {
   "cell_type": "markdown",
   "metadata": {},
   "source": [
    "## Reading input"
   ]
  },
  {
   "cell_type": "code",
   "execution_count": 44,
   "metadata": {},
   "outputs": [],
   "source": [
    "csv_path: str = \"diabetes.csv\"\n",
    "data: pd.DataFrame = pd.read_csv(csv_path)"
   ]
  },
  {
   "cell_type": "markdown",
   "metadata": {},
   "source": [
    "## Data description:\n",
    "- Pregnancies - number of times pregnant\n",
    "- Glucose - plasma glucose concentration over 2 hours in an oral glucose tolerance test            \t|\n",
    "- BloodPressure - diastolic blood pressure (mm Hg)\n",
    "- SkinThickness - triceps skin fold thickness (mm)\n",
    "- Insulin - 2-Hour serum insulin (mu U/ml)\n",
    "- BMI - body mass index (weight in kg/(height in m)2)\n",
    "- DiabetesPedigreeFunction - diabetes pedigree function (a function which scores likelihood of diabetes based on family history)\n",
    "- Age - age (years)\n",
    "- Outcome - class variable (0 -> non-diabetic, 1 -> diabetic)"
   ]
  },
  {
   "cell_type": "code",
   "execution_count": 422,
   "metadata": {},
   "outputs": [
    {
     "name": "stdout",
     "output_type": "stream",
     "text": [
      "(2000, 9)\n",
      "   Pregnancies  Glucose  BloodPressure  SkinThickness  Insulin   BMI  \\\n",
      "0            2       11             62             35        0  33.6   \n",
      "1            0       84             82             31      125  38.2   \n",
      "2            0      145              0              0        0  44.2   \n",
      "3            0      135             68             42      250  42.3   \n",
      "4            1      139             62             41      480  40.7   \n",
      "\n",
      "   DiabetesPedigreeFunction  Age  Outcome  \n",
      "0                     0.127   47        1  \n",
      "1                     0.233   23        0  \n",
      "2                     0.630   31        1  \n",
      "3                     0.365   24        1  \n",
      "4                     0.536   21        0  \n"
     ]
    }
   ],
   "source": [
    "print(data.values.shape)\n",
    "print(data.head())"
   ]
  },
  {
   "cell_type": "markdown",
   "metadata": {},
   "source": [
    "## Checking for mismatched data"
   ]
  },
  {
   "cell_type": "code",
   "execution_count": 423,
   "metadata": {},
   "outputs": [
    {
     "name": "stdout",
     "output_type": "stream",
     "text": [
      "False\n"
     ]
    }
   ],
   "source": [
    "print(data.isna().values.any())\n",
    "# No NaN and None variables - no further data processing is required."
   ]
  },
  {
   "cell_type": "markdown",
   "metadata": {},
   "source": [
    "## Spliting the data"
   ]
  },
  {
   "cell_type": "code",
   "execution_count": 416,
   "metadata": {},
   "outputs": [
    {
     "name": "stdout",
     "output_type": "stream",
     "text": [
      "666 666 668\n"
     ]
    }
   ],
   "source": [
    "# split data into 3 sets\n",
    "data_train, data_test, data_validate  = np.split(data, [int(len(data)/3), int(len(data)/3) * 2])\n",
    "print(len(data_train), len(data_test), len(data_validate))"
   ]
  },
  {
   "cell_type": "markdown",
   "metadata": {},
   "source": [
    "## Selecting dependend and independend variables"
   ]
  },
  {
   "cell_type": "code",
   "execution_count": 417,
   "metadata": {},
   "outputs": [],
   "source": [
    "y_column = \"Outcome\"\n",
    "x_columns = list(set(list(data_train.columns)) - set(y_column))\n",
    "# x_train = data_train.drop(columns=\"Outcome\").values\n",
    "# y_train = data_train[\"Outcome\"].values"
   ]
  },
  {
   "cell_type": "markdown",
   "metadata": {},
   "source": [
    "## Data normalization\n",
    "Normalization the data by scaling between 0 and 1.<br/>\n",
    "Dividing each value by its column max value."
   ]
  },
  {
   "cell_type": "code",
   "execution_count": 446,
   "metadata": {},
   "outputs": [
    {
     "name": "stdout",
     "output_type": "stream",
     "text": [
      "   Pregnancies   Glucose  BloodPressure  SkinThickness   Insulin       BMI  \\\n",
      "0     0.117647  0.055276       0.508197       0.318182  0.000000  0.416873   \n",
      "1     0.000000  0.422111       0.672131       0.281818  0.168011  0.473945   \n",
      "2     0.000000  0.728643       0.000000       0.000000  0.000000  0.548387   \n",
      "3     0.000000  0.678392       0.557377       0.381818  0.336022  0.524814   \n",
      "4     0.058824  0.698492       0.508197       0.372727  0.645161  0.504963   \n",
      "\n",
      "   DiabetesPedigreeFunction       Age  Outcome  \n",
      "0                  0.052479  0.580247      1.0  \n",
      "1                  0.096281  0.283951      0.0  \n",
      "2                  0.260331  0.382716      1.0  \n",
      "3                  0.150826  0.296296      1.0  \n",
      "4                  0.221488  0.259259      0.0  \n"
     ]
    }
   ],
   "source": [
    "data[x_columns] = data[x_columns] / data[x_columns].max()\n",
    "print(data.head())"
   ]
  },
  {
   "cell_type": "markdown",
   "metadata": {},
   "source": [
    "## Setting up the model\n",
    "\n",
    "- input layer length == 8 for 8 depended variables\n",
    "- one deep layers\n",
    "- output layer length == 2 -> 0 no diabetes, 1 -> diabetes"
   ]
  },
  {
   "cell_type": "code",
   "execution_count": 600,
   "metadata": {},
   "outputs": [],
   "source": [
    "input_shape = (data[x_columns].values.shape[1],)\n",
    "output_layer_length = len(np.unique(data[y_column].values))\n",
    "\n",
    "model = tf.keras.models.Sequential()\n",
    "model.add(tf.keras.layers.Dense(500, activation=tf.nn.relu, input_shape=input_shape))\n",
    "model.add(tf.keras.layers.Dense(100, activation=tf.nn.relu))\n",
    "model.add(tf.keras.layers.Dense(50, activation=tf.nn.relu))\n",
    "model.add(tf.keras.layers.Dense(output_layer_length, activation=tf.nn.softmax))\n",
    "\n",
    "model.compile(\n",
    "    optimizer=tf.optimizers.Adam(),\n",
    "#     loss=tf.losses.SparseCategoricalCrossentropy(),\n",
    "    loss=tf.losses.CategoricalCrossentropy(),\n",
    "    metrics=[\"accuracy\"]\n",
    ")"
   ]
  },
  {
   "cell_type": "code",
   "execution_count": 601,
   "metadata": {},
   "outputs": [
    {
     "name": "stdout",
     "output_type": "stream",
     "text": [
      "Train on 666 samples\n",
      "Epoch 1/20\n",
      "666/666 [==============================] - 1s 2ms/sample - loss: 0.3941 - accuracy: 0.9414\n",
      "Epoch 2/20\n",
      "666/666 [==============================] - 0s 388us/sample - loss: 0.0215 - accuracy: 1.0000\n",
      "Epoch 3/20\n",
      "666/666 [==============================] - 0s 386us/sample - loss: 8.8659e-04 - accuracy: 1.0000\n",
      "Epoch 4/20\n",
      "666/666 [==============================] - 0s 592us/sample - loss: 3.5301e-04 - accuracy: 1.0000\n",
      "Epoch 5/20\n",
      "666/666 [==============================] - 0s 425us/sample - loss: 2.4054e-04 - accuracy: 1.0000\n",
      "Epoch 6/20\n",
      "666/666 [==============================] - 0s 341us/sample - loss: 1.8025e-04 - accuracy: 1.0000\n",
      "Epoch 7/20\n",
      "666/666 [==============================] - 0s 341us/sample - loss: 1.3691e-04 - accuracy: 1.0000\n",
      "Epoch 8/20\n",
      "666/666 [==============================] - 0s 460us/sample - loss: 1.0081e-04 - accuracy: 1.0000\n",
      "Epoch 9/20\n",
      "666/666 [==============================] - 0s 336us/sample - loss: 7.8432e-05 - accuracy: 1.0000\n",
      "Epoch 10/20\n",
      "666/666 [==============================] - 0s 268us/sample - loss: 5.9126e-05 - accuracy: 1.0000\n",
      "Epoch 11/20\n",
      "666/666 [==============================] - 0s 302us/sample - loss: 4.6224e-05 - accuracy: 1.0000\n",
      "Epoch 12/20\n",
      "666/666 [==============================] - 0s 218us/sample - loss: 3.6920e-05 - accuracy: 1.0000\n",
      "Epoch 13/20\n",
      "666/666 [==============================] - 0s 366us/sample - loss: 3.0029e-05 - accuracy: 1.0000\n",
      "Epoch 14/20\n",
      "666/666 [==============================] - 0s 390us/sample - loss: 2.4533e-05 - accuracy: 1.0000\n",
      "Epoch 15/20\n",
      "666/666 [==============================] - 0s 463us/sample - loss: 2.0475e-05 - accuracy: 1.0000\n",
      "Epoch 16/20\n",
      "666/666 [==============================] - 0s 373us/sample - loss: 1.7302e-05 - accuracy: 1.0000\n",
      "Epoch 17/20\n",
      "666/666 [==============================] - 0s 507us/sample - loss: 1.4799e-05 - accuracy: 1.0000\n",
      "Epoch 18/20\n",
      "666/666 [==============================] - 0s 377us/sample - loss: 1.2774e-05 - accuracy: 1.0000\n",
      "Epoch 19/20\n",
      "666/666 [==============================] - 0s 563us/sample - loss: 1.1168e-05 - accuracy: 1.0000\n",
      "Epoch 20/20\n",
      "666/666 [==============================] - 0s 349us/sample - loss: 9.7729e-06 - accuracy: 1.0000\n"
     ]
    },
    {
     "data": {
      "text/plain": [
       "<tensorflow.python.keras.callbacks.History at 0x7f1219e65278>"
      ]
     },
     "execution_count": 601,
     "metadata": {},
     "output_type": "execute_result"
    }
   ],
   "source": [
    "x_train = data_train[x_columns].values\n",
    "y_train = tf.keras.utils.to_categorical(data_train[y_column].values)\n",
    "# y_train = data_train[y_column].values\n",
    "\n",
    "model.fit(x_train, y_train, epochs=20)"
   ]
  },
  {
   "cell_type": "code",
   "execution_count": 602,
   "metadata": {},
   "outputs": [
    {
     "name": "stdout",
     "output_type": "stream",
     "text": [
      "0\n",
      "0\n",
      "accuracy: 0.6486486196517944%\n"
     ]
    }
   ],
   "source": [
    "x_test = data_test[x_columns].values\n",
    "predictions = model.predict([x_test])\n",
    "\n",
    "idx = 7\n",
    "print(np.argmax(predictions[idx]))\n",
    "print(data_test[\"Outcome\"].values[idx])\n",
    "\n",
    "y_test = tf.keras.utils.to_categorical(data_test[y_column].values)\n",
    "# y_test = data_test[y_column].values\n",
    "\n",
    "scores = model.evaluate(x_test, y_test, verbose=0)\n",
    "print(\"accuracy: {}%\".format(scores[1]))"
   ]
  }
 ],
 "metadata": {
  "kernelspec": {
   "display_name": "Python 3",
   "language": "python",
   "name": "python3"
  },
  "language_info": {
   "codemirror_mode": {
    "name": "ipython",
    "version": 3
   },
   "file_extension": ".py",
   "mimetype": "text/x-python",
   "name": "python",
   "nbconvert_exporter": "python",
   "pygments_lexer": "ipython3",
   "version": "3.7.3"
  }
 },
 "nbformat": 4,
 "nbformat_minor": 2
}
