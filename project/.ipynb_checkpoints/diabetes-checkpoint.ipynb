{
 "cells": [
  {
   "cell_type": "code",
   "execution_count": 26,
   "metadata": {},
   "outputs": [],
   "source": [
    "from typing import List, Tuple\n",
    "import pandas as pd\n",
    "import numpy as np\n",
    "import tensorflow as tf\n",
    "from sklearn.model_selection import StratifiedShuffleSplit\n",
    "from sklearn.preprocessing import LabelBinarizer"
   ]
  },
  {
   "cell_type": "markdown",
   "metadata": {},
   "source": [
    "## Reading input"
   ]
  },
  {
   "cell_type": "code",
   "execution_count": 3,
   "metadata": {},
   "outputs": [],
   "source": [
    "csv_path: str = \"diabetes.csv\"\n",
    "data: pd.DataFrame = pd.read_csv(csv_path)"
   ]
  },
  {
   "cell_type": "markdown",
   "metadata": {},
   "source": [
    "## Data description:\n",
    "- Pregnancies - number of times pregnant\n",
    "- Glucose - plasma glucose concentration over 2 hours in an oral glucose tolerance test            \t|\n",
    "- BloodPressure - diastolic blood pressure (mm Hg)\n",
    "- SkinThickness - triceps skin fold thickness (mm)\n",
    "- Insulin - 2-Hour serum insulin (mu U/ml)\n",
    "- BMI - body mass index (weight in kg/(height in m)2)\n",
    "- DiabetesPedigreeFunction - diabetes pedigree function (a function which scores likelihood of diabetes based on family history)\n",
    "- Age - age (years)\n",
    "- Outcome - class variable (0 -> non-diabetic, 1 -> diabetic)"
   ]
  },
  {
   "cell_type": "code",
   "execution_count": 4,
   "metadata": {},
   "outputs": [
    {
     "name": "stdout",
     "output_type": "stream",
     "text": [
      "(2000, 9)\n",
      "   Pregnancies  Glucose  BloodPressure  SkinThickness  Insulin   BMI  \\\n",
      "0            2      138             62             35        0  33.6   \n",
      "1            0       84             82             31      125  38.2   \n",
      "2            0      145              0              0        0  44.2   \n",
      "3            0      135             68             42      250  42.3   \n",
      "4            1      139             62             41      480  40.7   \n",
      "\n",
      "   DiabetesPedigreeFunction  Age  Outcome  \n",
      "0                     0.127   47        1  \n",
      "1                     0.233   23        0  \n",
      "2                     0.630   31        1  \n",
      "3                     0.365   24        1  \n",
      "4                     0.536   21        0  \n"
     ]
    }
   ],
   "source": [
    "print(data.values.shape)\n",
    "print(data.head())"
   ]
  },
  {
   "cell_type": "markdown",
   "metadata": {},
   "source": [
    "## Checking for mismatched data"
   ]
  },
  {
   "cell_type": "code",
   "execution_count": 5,
   "metadata": {},
   "outputs": [
    {
     "name": "stdout",
     "output_type": "stream",
     "text": [
      "False\n"
     ]
    }
   ],
   "source": [
    "print(data.isna().values.any())\n",
    "# No NaN and None variables - no further data processing is required."
   ]
  },
  {
   "cell_type": "markdown",
   "metadata": {},
   "source": [
    "## Spliting the data"
   ]
  },
  {
   "cell_type": "code",
   "execution_count": 6,
   "metadata": {},
   "outputs": [
    {
     "name": "stdout",
     "output_type": "stream",
     "text": [
      "666 666 668\n"
     ]
    }
   ],
   "source": [
    "# split data into 3 sets\n",
    "data_train, data_test, data_validate  = np.split(data, [int(len(data)/3), int(len(data)/3) * 2])\n",
    "print(len(data_train), len(data_test), len(data_validate))"
   ]
  },
  {
   "cell_type": "markdown",
   "metadata": {},
   "source": [
    "## Selecting dependend and independend variables"
   ]
  },
  {
   "cell_type": "code",
   "execution_count": 13,
   "metadata": {},
   "outputs": [],
   "source": [
    "y_column: str = \"Outcome\"\n",
    "x_columns: List[str] = list(set(list(data_train.columns)) - set(y_column))\n",
    "# x_train = data_train.drop(columns=\"Outcome\").values\n",
    "# y_train = data_train[\"Outcome\"].values"
   ]
  },
  {
   "cell_type": "markdown",
   "metadata": {},
   "source": [
    "## Data normalization\n",
    "Normalization the data by scaling between 0 and 1.<br/>\n",
    "Dividing each value by its column max value."
   ]
  },
  {
   "cell_type": "code",
   "execution_count": 14,
   "metadata": {},
   "outputs": [
    {
     "name": "stdout",
     "output_type": "stream",
     "text": [
      "   Pregnancies   Glucose  BloodPressure  SkinThickness   Insulin       BMI  \\\n",
      "0     0.117647  0.693467       0.508197       0.318182  0.000000  0.416873   \n",
      "1     0.000000  0.422111       0.672131       0.281818  0.168011  0.473945   \n",
      "2     0.000000  0.728643       0.000000       0.000000  0.000000  0.548387   \n",
      "3     0.000000  0.678392       0.557377       0.381818  0.336022  0.524814   \n",
      "4     0.058824  0.698492       0.508197       0.372727  0.645161  0.504963   \n",
      "\n",
      "   DiabetesPedigreeFunction       Age  Outcome  \n",
      "0                  0.052479  0.580247      1.0  \n",
      "1                  0.096281  0.283951      0.0  \n",
      "2                  0.260331  0.382716      1.0  \n",
      "3                  0.150826  0.296296      1.0  \n",
      "4                  0.221488  0.259259      0.0  \n"
     ]
    }
   ],
   "source": [
    "data[x_columns] = data[x_columns] / data[x_columns].max()\n",
    "print(data.head())"
   ]
  },
  {
   "cell_type": "markdown",
   "metadata": {},
   "source": [
    "## Setting up the model\n",
    "\n",
    "- input layer length == 8 for 8 depended variables\n",
    "- one deep layers\n",
    "- output layer length == 2 -> 0 no diabetes, 1 -> diabetes"
   ]
  },
  {
   "cell_type": "code",
   "execution_count": 35,
   "metadata": {},
   "outputs": [],
   "source": [
    "input_shape: Tuple[int]  = (data[x_columns].values.shape[1],)\n",
    "output_layer_length: int = len(np.unique(data[y_column].values))\n",
    "\n",
    "model: tf.keras.models.Sequential = tf.keras.models.Sequential()\n",
    "model.add(tf.keras.layers.Dense(500, activation=tf.nn.relu, input_shape=input_shape))\n",
    "model.add(tf.keras.layers.Dense(100, activation=tf.nn.relu))\n",
    "model.add(tf.keras.layers.Dense(50, activation=tf.nn.relu))\n",
    "model.add(tf.keras.layers.Dense(output_layer_length, activation=tf.nn.softmax))\n",
    "\n",
    "model.compile(\n",
    "    optimizer=tf.optimizers.Adam(),\n",
    "#     loss=tf.losses.SparseCategoricalCrossentropy(),\n",
    "    loss=tf.losses.CategoricalCrossentropy(),\n",
    "    metrics=[\"accuracy\"]\n",
    ")"
   ]
  },
  {
   "cell_type": "code",
   "execution_count": 36,
   "metadata": {},
   "outputs": [
    {
     "name": "stdout",
     "output_type": "stream",
     "text": [
      "Train on 666 samples\n",
      "Epoch 1/20\n",
      "666/666 [==============================] - 1s 1ms/sample - loss: 1.3446 - accuracy: 0.6111\n",
      "Epoch 2/20\n",
      "666/666 [==============================] - 0s 102us/sample - loss: 0.7453 - accuracy: 0.6471\n",
      "Epoch 3/20\n",
      "666/666 [==============================] - 0s 99us/sample - loss: 0.7554 - accuracy: 0.6592\n",
      "Epoch 4/20\n",
      "666/666 [==============================] - 0s 100us/sample - loss: 0.6721 - accuracy: 0.6952\n",
      "Epoch 5/20\n",
      "666/666 [==============================] - 0s 103us/sample - loss: 0.8805 - accuracy: 0.6351\n",
      "Epoch 6/20\n",
      "666/666 [==============================] - 0s 100us/sample - loss: 0.7392 - accuracy: 0.6832\n",
      "Epoch 7/20\n",
      "666/666 [==============================] - 0s 98us/sample - loss: 0.4954 - accuracy: 0.7658\n",
      "Epoch 8/20\n",
      "666/666 [==============================] - 0s 93us/sample - loss: 0.5224 - accuracy: 0.7673\n",
      "Epoch 9/20\n",
      "666/666 [==============================] - 0s 94us/sample - loss: 0.4937 - accuracy: 0.7673\n",
      "Epoch 10/20\n",
      "666/666 [==============================] - 0s 98us/sample - loss: 0.5061 - accuracy: 0.7613\n",
      "Epoch 11/20\n",
      "666/666 [==============================] - 0s 99us/sample - loss: 0.6370 - accuracy: 0.7342\n",
      "Epoch 12/20\n",
      "666/666 [==============================] - 0s 100us/sample - loss: 0.5392 - accuracy: 0.7643\n",
      "Epoch 13/20\n",
      "666/666 [==============================] - 0s 94us/sample - loss: 0.4146 - accuracy: 0.8213\n",
      "Epoch 14/20\n",
      "666/666 [==============================] - 0s 93us/sample - loss: 0.3950 - accuracy: 0.8258\n",
      "Epoch 15/20\n",
      "666/666 [==============================] - 0s 97us/sample - loss: 0.5391 - accuracy: 0.7703\n",
      "Epoch 16/20\n",
      "666/666 [==============================] - 0s 99us/sample - loss: 0.5407 - accuracy: 0.7417\n",
      "Epoch 17/20\n",
      "666/666 [==============================] - 0s 98us/sample - loss: 0.4547 - accuracy: 0.7943\n",
      "Epoch 18/20\n",
      "666/666 [==============================] - 0s 99us/sample - loss: 0.3625 - accuracy: 0.8649\n",
      "Epoch 19/20\n",
      "666/666 [==============================] - 0s 98us/sample - loss: 0.3298 - accuracy: 0.8604\n",
      "Epoch 20/20\n",
      "666/666 [==============================] - 0s 99us/sample - loss: 0.3138 - accuracy: 0.8574\n"
     ]
    },
    {
     "data": {
      "text/plain": [
       "<tensorflow.python.keras.callbacks.History at 0x1a5a590e90>"
      ]
     },
     "execution_count": 36,
     "metadata": {},
     "output_type": "execute_result"
    }
   ],
   "source": [
    "x_train: np.ndarray = data_train[x_columns].values\n",
    "y_train: np.ndarray = tf.keras.utils.to_categorical(data_train[y_column].values)\n",
    "# y_train = data_train[y_column].values\n",
    "\n",
    "model.fit(x_train, y_train, epochs=20)"
   ]
  },
  {
   "cell_type": "code",
   "execution_count": 37,
   "metadata": {},
   "outputs": [
    {
     "name": "stdout",
     "output_type": "stream",
     "text": [
      "0\n",
      "0\n",
      "accuracy: 0.9039039015769958\n"
     ]
    }
   ],
   "source": [
    "x_test = data_test[x_columns].values\n",
    "predictions = model.predict([x_test])\n",
    "\n",
    "idx: int = 7\n",
    "print(np.argmax(predictions[idx]))\n",
    "print(data_test[\"Outcome\"].values[idx])\n",
    "\n",
    "y_test = tf.keras.utils.to_categorical(data_test[y_column].values)\n",
    "# y_test = data_test[y_column].values\n",
    "\n",
    "scores = model.evaluate(x_test, y_test, verbose=0)\n",
    "print(\"accuracy: {}\".format(scores[1]))"
   ]
  },
  {
   "cell_type": "code",
   "execution_count": null,
   "metadata": {},
   "outputs": [],
   "source": []
  }
 ],
 "metadata": {
  "kernelspec": {
   "display_name": "Python 3",
   "language": "python",
   "name": "python3"
  },
  "language_info": {
   "codemirror_mode": {
    "name": "ipython",
    "version": 3
   },
   "file_extension": ".py",
   "mimetype": "text/x-python",
   "name": "python",
   "nbconvert_exporter": "python",
   "pygments_lexer": "ipython3",
   "version": "3.7.4"
  }
 },
 "nbformat": 4,
 "nbformat_minor": 2
}
