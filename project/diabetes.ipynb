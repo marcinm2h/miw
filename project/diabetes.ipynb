{
 "cells": [
  {
   "cell_type": "code",
   "execution_count": 197,
   "metadata": {},
   "outputs": [],
   "source": [
    "import pandas as pd\n",
    "import numpy as np\n",
    "import tensorflow as tf\n",
    "from sklearn.model_selection import StratifiedShuffleSplit\n",
    "from sklearn.preprocessing import LabelBinarizer"
   ]
  },
  {
   "cell_type": "code",
   "execution_count": 44,
   "metadata": {},
   "outputs": [],
   "source": [
    "csv_path: str = \"diabetes.csv\"\n",
    "data: pd.DataFrame = pd.read_csv(csv_path)"
   ]
  },
  {
   "cell_type": "markdown",
   "metadata": {},
   "source": [
    "Data description:\n",
    "- Pregnancies - number of times pregnant\n",
    "- Glucose - plasma glucose concentration over 2 hours in an oral glucose tolerance test            \t|\n",
    "- BloodPressure - diastolic blood pressure (mm Hg)\n",
    "- SkinThickness - triceps skin fold thickness (mm)\n",
    "- Insulin - 2-Hour serum insulin (mu U/ml)\n",
    "- BMI - body mass index (weight in kg/(height in m)2)\n",
    "- DiabetesPedigreeFunction - diabetes pedigree function (a function which scores likelihood of diabetes based on family history)\n",
    "- Age - age (years)\n",
    "- Outcome - class variable (0 -> non-diabetic, 1 -> diabetic)"
   ]
  },
  {
   "cell_type": "code",
   "execution_count": 119,
   "metadata": {},
   "outputs": [
    {
     "name": "stdout",
     "output_type": "stream",
     "text": [
      "   Pregnancies  Glucose  BloodPressure  SkinThickness  Insulin   BMI  \\\n",
      "0            2      138             62             35        0  33.6   \n",
      "1            0       84             82             31      125  38.2   \n",
      "2            0      145              0              0        0  44.2   \n",
      "3            0      135             68             42      250  42.3   \n",
      "4            1      139             62             41      480  40.7   \n",
      "\n",
      "   DiabetesPedigreeFunction  Age  Outcome  \n",
      "0                     0.127   47        1  \n",
      "1                     0.233   23        0  \n",
      "2                     0.630   31        1  \n",
      "3                     0.365   24        1  \n",
      "4                     0.536   21        0  \n",
      "(2000, 9)\n",
      "[2.00e+00 1.38e+02 6.20e+01 3.50e+01 0.00e+00 3.36e+01 1.27e-01 4.70e+01\n",
      " 1.00e+00]\n",
      "138\n",
      "Index(['Pregnancies', 'Glucose', 'BloodPressure', 'SkinThickness', 'Insulin',\n",
      "       'BMI', 'DiabetesPedigreeFunction', 'Age', 'Outcome'],\n",
      "      dtype='object')\n"
     ]
    }
   ],
   "source": [
    "print(data.head())\n",
    "print(data.values.shape)\n",
    "print(data.values[0])\n",
    "print(data[\"Glucose\"][0])\n",
    "print(data.columns)"
   ]
  },
  {
   "cell_type": "code",
   "execution_count": 246,
   "metadata": {},
   "outputs": [
    {
     "name": "stdout",
     "output_type": "stream",
     "text": [
      "False\n"
     ]
    }
   ],
   "source": [
    "print(data.isna().values.any())"
   ]
  },
  {
   "cell_type": "markdown",
   "metadata": {},
   "source": [
    "No NaN and None variables - no further data processing is required."
   ]
  },
  {
   "cell_type": "code",
   "execution_count": 167,
   "metadata": {},
   "outputs": [
    {
     "name": "stdout",
     "output_type": "stream",
     "text": [
      "666 666 668\n"
     ]
    }
   ],
   "source": [
    "# split data into 3 sets\n",
    "data_train, data_test, data_validate  = np.split(data, [int(len(data)/3), int(len(data)/3) * 2])\n",
    "print(len(data_train), len(data_test), len(data_validate))"
   ]
  },
  {
   "cell_type": "code",
   "execution_count": 183,
   "metadata": {
    "scrolled": true
   },
   "outputs": [
    {
     "name": "stdout",
     "output_type": "stream",
     "text": [
      "[[2.00e+00 1.38e+02 6.20e+01 ... 1.27e-01 4.70e+01 1.00e+00]\n",
      " [0.00e+00 8.40e+01 8.20e+01 ... 2.33e-01 2.30e+01 0.00e+00]\n",
      " [0.00e+00 1.45e+02 0.00e+00 ... 6.30e-01 3.10e+01 1.00e+00]\n",
      " ...\n",
      " [9.00e+00 1.45e+02 8.00e+01 ... 6.37e-01 4.00e+01 1.00e+00]\n",
      " [6.00e+00 1.15e+02 6.00e+01 ... 2.45e-01 4.00e+01 1.00e+00]\n",
      " [1.00e+00 1.12e+02 8.00e+01 ... 2.17e-01 2.40e+01 0.00e+00]]\n",
      "Index(['Pregnancies', 'Glucose', 'BloodPressure', 'SkinThickness', 'Insulin',\n",
      "       'BMI', 'DiabetesPedigreeFunction', 'Age', 'Outcome'],\n",
      "      dtype='object')\n",
      "<class 'numpy.ndarray'>\n"
     ]
    }
   ],
   "source": [
    "print(data_train.values)\n",
    "print(data_train.columns)\n",
    "binarizer = LabelBinarizer()\n",
    "encoded_labels: np.ndarray = binarizer.fit_transform(data_train.columns)\n",
    "# x_test, y_test = data_train"
   ]
  },
  {
   "cell_type": "code",
   "execution_count": 355,
   "metadata": {},
   "outputs": [
    {
     "name": "stdout",
     "output_type": "stream",
     "text": [
      "Train on 666 samples\n",
      "Epoch 1/3\n",
      "666/666 [==============================] - 1s 1ms/sample - loss: 5.9307 - accuracy: 0.5120\n",
      "Epoch 2/3\n",
      "666/666 [==============================] - 0s 257us/sample - loss: 4.5114 - accuracy: 0.5195\n",
      "Epoch 3/3\n",
      "666/666 [==============================] - 0s 287us/sample - loss: 3.2836 - accuracy: 0.5721\n"
     ]
    },
    {
     "data": {
      "text/plain": [
       "<tensorflow.python.keras.callbacks.History at 0x7f1251fb97f0>"
      ]
     },
     "execution_count": 355,
     "metadata": {},
     "output_type": "execute_result"
    }
   ],
   "source": [
    "x_train = data_train.drop(columns=\"Outcome\").values\n",
    "y_train = data_train[\"Outcome\"].values\n",
    "\n",
    "model = tf.keras.models.Sequential()\n",
    "model.add(tf.keras.layers.Dense(14, activation=tf.nn.relu))\n",
    "model.add(tf.keras.layers.Dense(2, activation=tf.nn.softmax))\n",
    "\n",
    "model.compile(\n",
    "    optimizer=tf.optimizers.Adam(),\n",
    "    loss=\"sparse_categorical_crossentropy\",\n",
    "    metrics=[\"accuracy\"]\n",
    ")\n",
    "\n",
    "model.fit(x_train, y_train, epochs=3)"
   ]
  },
  {
   "cell_type": "code",
   "execution_count": 324,
   "metadata": {},
   "outputs": [
    {
     "name": "stdout",
     "output_type": "stream",
     "text": [
      "1\n",
      "0\n"
     ]
    }
   ],
   "source": [
    "x_test = data_test.drop(columns=\"Outcome\").values\n",
    "predictions = model.predict([x_test])\n",
    "\n",
    "idx = 8\n",
    "print(np.argmax(predictions[idx]))\n",
    "print(data_test[\"Outcome\"].values[idx])"
   ]
  }
 ],
 "metadata": {
  "kernelspec": {
   "display_name": "Python 3",
   "language": "python",
   "name": "python3"
  },
  "language_info": {
   "codemirror_mode": {
    "name": "ipython",
    "version": 3
   },
   "file_extension": ".py",
   "mimetype": "text/x-python",
   "name": "python",
   "nbconvert_exporter": "python",
   "pygments_lexer": "ipython3",
   "version": "3.7.3"
  }
 },
 "nbformat": 4,
 "nbformat_minor": 2
}
